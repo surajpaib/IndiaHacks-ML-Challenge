{
 "cells": [
  {
   "cell_type": "code",
   "execution_count": 1,
   "metadata": {
    "collapsed": true
   },
   "outputs": [],
   "source": [
    "from lib.modules_hotstar import describe_data"
   ]
  },
  {
   "cell_type": "code",
   "execution_count": 2,
   "metadata": {},
   "outputs": [
    {
     "name": "stdout",
     "output_type": "stream",
     "text": [
      "Directory Read from:data/hotstar/*\n\nFiles Read:\n\ndata/hotstar/train_data.json\n"
     ]
    },
    {
     "name": "stdout",
     "output_type": "stream",
     "text": [
      "data/hotstar/test_data.json\n"
     ]
    },
    {
     "name": "stdout",
     "output_type": "stream",
     "text": [
      "data/hotstar/sample_submission.csv\n"
     ]
    }
   ],
   "source": [
    "train_X, train_Y,  test, details = describe_data('data/hotstar')"
   ]
  },
  {
   "cell_type": "code",
   "execution_count": 3,
   "metadata": {},
   "outputs": [
    {
     "data": {
      "text/html": [
       "<div>\n",
       "<table border=\"1\" class=\"dataframe\">\n",
       "  <thead>\n",
       "    <tr style=\"text-align: right;\">\n",
       "      <th></th>\n",
       "      <th>ID</th>\n",
       "      <th>cities</th>\n",
       "      <th>genres</th>\n",
       "      <th>titles</th>\n",
       "      <th>dow</th>\n",
       "      <th>tod</th>\n",
       "    </tr>\n",
       "  </thead>\n",
       "  <tbody>\n",
       "    <tr>\n",
       "      <th>0</th>\n",
       "      <td>test-1</td>\n",
       "      <td>delhi:182,mumbai:702</td>\n",
       "      <td>Romance:182,Cricket:702</td>\n",
       "      <td>Axar's 21-ball 40 amidst KXIP ruins:72,Virat K...</td>\n",
       "      <td>2:182,4:701</td>\n",
       "      <td>13:182,15:701</td>\n",
       "    </tr>\n",
       "    <tr>\n",
       "      <th>1</th>\n",
       "      <td>test-10</td>\n",
       "      <td>pune:16,delhi:1100,navi mumbai:22736</td>\n",
       "      <td>Romance:50,Action:3501,Mythology:20300</td>\n",
       "      <td>Besh Korechi Prem Korechi:0,Power:122,Siya Ke ...</td>\n",
       "      <td>1:4830,3:3078,2:8359,5:2946,4:4185,7:451</td>\n",
       "      <td>20:6909,21:1520,22:662,23:3160,19:5711,1:121,0...</td>\n",
       "    </tr>\n",
       "    <tr>\n",
       "      <th>2</th>\n",
       "      <td>test-100</td>\n",
       "      <td>chennai:8652,delhi:751,mumbai:4470</td>\n",
       "      <td>TalkShow:2247,Mythology:11626</td>\n",
       "      <td>Mahabharat:11626,Koffee With Karan:2247</td>\n",
       "      <td>1:5409,2:740,4:1162,7:2755,6:3807</td>\n",
       "      <td>11:23,10:499,13:1804,12:1467,15:751,14:14,22:3...</td>\n",
       "    </tr>\n",
       "    <tr>\n",
       "      <th>3</th>\n",
       "      <td>test-1000</td>\n",
       "      <td>pune:15,delhi:4872,mumbai:1849</td>\n",
       "      <td>Drama:6459,Reality:276</td>\n",
       "      <td>Dance +:276,Dance  :0,Chandanamazha:6458,Karut...</td>\n",
       "      <td>1:3227,3:2043,7:1464</td>\n",
       "      <td>14:15,17:1758,16:4185,19:128,23:468,6:180</td>\n",
       "    </tr>\n",
       "    <tr>\n",
       "      <th>4</th>\n",
       "      <td>test-10000</td>\n",
       "      <td>mumbai:1204</td>\n",
       "      <td>Drama:1204</td>\n",
       "      <td>Yeh Rishta Kya Kehlata Hai:1204</td>\n",
       "      <td>1:1204</td>\n",
       "      <td>19:1204</td>\n",
       "    </tr>\n",
       "  </tbody>\n",
       "</table>\n",
       "</div>"
      ],
      "text/plain": [
       "<div>\n",
       "<table border=\"1\" class=\"dataframe\">\n",
       "  <thead>\n",
       "    <tr style=\"text-align: right;\">\n",
       "      <th></th>\n",
       "      <th>ID</th>\n",
       "      <th>cities</th>\n",
       "      <th>genres</th>\n",
       "      <th>titles</th>\n",
       "      <th>dow</th>\n",
       "      <th>tod</th>\n",
       "    </tr>\n",
       "  </thead>\n",
       "  <tbody>\n",
       "    <tr>\n",
       "      <th>0</th>\n",
       "      <td>test-1</td>\n",
       "      <td>delhi:182,mumbai:702</td>\n",
       "      <td>Romance:182,Cricket:702</td>\n",
       "      <td>Axar's 21-ball 40 amidst KXIP ruins:72,Virat K...</td>\n",
       "      <td>2:182,4:701</td>\n",
       "      <td>13:182,15:701</td>\n",
       "    </tr>\n",
       "    <tr>\n",
       "      <th>1</th>\n",
       "      <td>test-10</td>\n",
       "      <td>pune:16,delhi:1100,navi mumbai:22736</td>\n",
       "      <td>Romance:50,Action:3501,Mythology:20300</td>\n",
       "      <td>Besh Korechi Prem Korechi:0,Power:122,Siya Ke ...</td>\n",
       "      <td>1:4830,3:3078,2:8359,5:2946,4:4185,7:451</td>\n",
       "      <td>20:6909,21:1520,22:662,23:3160,19:5711,1:121,0...</td>\n",
       "    </tr>\n",
       "    <tr>\n",
       "      <th>2</th>\n",
       "      <td>test-100</td>\n",
       "      <td>chennai:8652,delhi:751,mumbai:4470</td>\n",
       "      <td>TalkShow:2247,Mythology:11626</td>\n",
       "      <td>Mahabharat:11626,Koffee With Karan:2247</td>\n",
       "      <td>1:5409,2:740,4:1162,7:2755,6:3807</td>\n",
       "      <td>11:23,10:499,13:1804,12:1467,15:751,14:14,22:3...</td>\n",
       "    </tr>\n",
       "    <tr>\n",
       "      <th>3</th>\n",
       "      <td>test-1000</td>\n",
       "      <td>pune:15,delhi:4872,mumbai:1849</td>\n",
       "      <td>Drama:6459,Reality:276</td>\n",
       "      <td>Dance +:276,Dance  :0,Chandanamazha:6458,Karut...</td>\n",
       "      <td>1:3227,3:2043,7:1464</td>\n",
       "      <td>14:15,17:1758,16:4185,19:128,23:468,6:180</td>\n",
       "    </tr>\n",
       "    <tr>\n",
       "      <th>4</th>\n",
       "      <td>test-10000</td>\n",
       "      <td>mumbai:1204</td>\n",
       "      <td>Drama:1204</td>\n",
       "      <td>Yeh Rishta Kya Kehlata Hai:1204</td>\n",
       "      <td>1:1204</td>\n",
       "      <td>19:1204</td>\n",
       "    </tr>\n",
       "  </tbody>\n",
       "</table>\n",
       "</div>"
      ]
     },
     "execution_count": 3,
     "metadata": {},
     "output_type": "execute_result"
    }
   ],
   "source": [
    "test.head()"
   ]
  },
  {
   "cell_type": "code",
   "execution_count": 4,
   "metadata": {},
   "outputs": [],
   "source": [
    "from lib.modules_hotstar import transform_countdata"
   ]
  },
  {
   "cell_type": "code",
   "execution_count": 16,
   "metadata": {},
   "outputs": [
    {
     "ename": "ValueError",
     "evalue": "invalid literal for int() with base 10: ''",
     "traceback": [
      "\u001b[0;31m\u001b[0m",
      "\u001b[0;31mValueError\u001b[0mTraceback (most recent call last)",
      "\u001b[0;32m<ipython-input-16-2a3ac4988324>\u001b[0m in \u001b[0;36m<module>\u001b[0;34m()\u001b[0m\n\u001b[1;32m      1\u001b[0m \u001b[0;31m## Add counts for different fields from modules_hotstar\u001b[0m\u001b[0;34m\u001b[0m\u001b[0;34m\u001b[0m\u001b[0m\n\u001b[1;32m      2\u001b[0m \u001b[0mtrain_X\u001b[0m\u001b[0;34m[\u001b[0m\u001b[0;34m'genre_count'\u001b[0m\u001b[0;34m]\u001b[0m \u001b[0;34m=\u001b[0m \u001b[0mtransform_countdata\u001b[0m\u001b[0;34m(\u001b[0m\u001b[0mtrain_X\u001b[0m\u001b[0;34m,\u001b[0m \u001b[0;34m'genres'\u001b[0m\u001b[0;34m)\u001b[0m\u001b[0;34m\u001b[0m\u001b[0m\n\u001b[0;32m----> 3\u001b[0;31m \u001b[0mtrain_X\u001b[0m\u001b[0;34m[\u001b[0m\u001b[0;34m'title_count'\u001b[0m\u001b[0;34m]\u001b[0m \u001b[0;34m=\u001b[0m \u001b[0mtransform_countdata\u001b[0m\u001b[0;34m(\u001b[0m\u001b[0mtrain_X\u001b[0m\u001b[0;34m,\u001b[0m \u001b[0;34m'titles'\u001b[0m\u001b[0;34m)\u001b[0m\u001b[0;34m\u001b[0m\u001b[0m\n\u001b[0m\u001b[1;32m      4\u001b[0m \u001b[0mtrain_X\u001b[0m\u001b[0;34m[\u001b[0m\u001b[0;34m'city_count'\u001b[0m\u001b[0;34m]\u001b[0m \u001b[0;34m=\u001b[0m \u001b[0mtransform_countdata\u001b[0m\u001b[0;34m(\u001b[0m\u001b[0mtrain_X\u001b[0m\u001b[0;34m,\u001b[0m \u001b[0;34m'cities'\u001b[0m\u001b[0;34m)\u001b[0m\u001b[0;34m\u001b[0m\u001b[0m\n",
      "\u001b[0;32m/home/suraj/Repositories/IndiaHacks ML Hackathon/lib/modules_hotstar.pyc\u001b[0m in \u001b[0;36mtransform_countdata\u001b[0;34m(data, counts_field)\u001b[0m\n\u001b[1;32m     39\u001b[0m         \u001b[0msubfield_count\u001b[0m \u001b[0;34m=\u001b[0m \u001b[0;36m0\u001b[0m\u001b[0;34m\u001b[0m\u001b[0m\n\u001b[1;32m     40\u001b[0m         \u001b[0;32mfor\u001b[0m \u001b[0msubfield\u001b[0m \u001b[0;32min\u001b[0m \u001b[0mfield\u001b[0m\u001b[0;34m.\u001b[0m\u001b[0msplit\u001b[0m\u001b[0;34m(\u001b[0m\u001b[0;34m\",\"\u001b[0m\u001b[0;34m)\u001b[0m\u001b[0;34m:\u001b[0m\u001b[0;34m\u001b[0m\u001b[0m\n\u001b[0;32m---> 41\u001b[0;31m             \u001b[0mcount\u001b[0m \u001b[0;34m=\u001b[0m \u001b[0mint\u001b[0m\u001b[0;34m(\u001b[0m\u001b[0msubfield\u001b[0m\u001b[0;34m.\u001b[0m\u001b[0msplit\u001b[0m\u001b[0;34m(\u001b[0m\u001b[0;34m\":\"\u001b[0m\u001b[0;34m)\u001b[0m\u001b[0;34m[\u001b[0m\u001b[0;34m-\u001b[0m\u001b[0;36m1\u001b[0m\u001b[0;34m]\u001b[0m\u001b[0;34m)\u001b[0m\u001b[0;34m\u001b[0m\u001b[0m\n\u001b[0m\u001b[1;32m     42\u001b[0m             \u001b[0msubfield_count\u001b[0m \u001b[0;34m+=\u001b[0m \u001b[0mcount\u001b[0m\u001b[0;34m\u001b[0m\u001b[0m\n\u001b[1;32m     43\u001b[0m         \u001b[0mcount_list\u001b[0m\u001b[0;34m.\u001b[0m\u001b[0mappend\u001b[0m\u001b[0;34m(\u001b[0m\u001b[0msubfield_count\u001b[0m\u001b[0;34m)\u001b[0m\u001b[0;34m\u001b[0m\u001b[0m\n",
      "\u001b[0;31mValueError\u001b[0m: invalid literal for int() with base 10: ''"
     ],
     "output_type": "error"
    }
   ],
   "source": [
    "## Add counts for different fields from modules_hotstar\n",
    "train_X['genre_count'] = transform_countdata(train_X, 'genres')\n",
    "train_X['title_count'] = transform_countdata(train_X, 'titles')\n",
    "train_X['city_count'] = transform_countdata(train_X, 'cities')"
   ]
  },
  {
   "cell_type": "code",
   "execution_count": 12,
   "metadata": {},
   "outputs": [],
   "source": [
    ""
   ]
  },
  {
   "cell_type": "code",
   "execution_count": 14,
   "metadata": {
    "collapsed": false
   },
   "outputs": [
    {
     "name": "stdout",
     "output_type": "stream",
     "text": [
      "            ID                                  genres  \\\n0      train-1  Cricket:82379,Kabaddi:255,Reality:4751   \n1     train-10              Cricket:15640,Wildlife:730   \n2    train-100                 LiveTV:13,Football:4129   \n3   train-1000               TalkShow:658,Cricket:7690   \n4  train-10000    Drama:5503,Cricket:3283,Reality:1345   \n\n                                              titles  \\\n0  Top Raids: Haryana vs Services SCB:103,Day 4: ...   \n1  Dhoni Quits Captaincy:148,Day 4: India Move in...   \n2  Star Sports 4:13,Manchester United vs Everton:...   \n3  SRH vs RCB:701,KKR vs KXIP:1042,MI vs SRH:2288...   \n4  MI vs KKR:304,Yeh Rishta Kya Kehlata Hai:5449,...   \n\n                                         cities  \\\n0                     gurgaon:55494,delhi:31892   \n1             delhi:5862,nagar:8916,mumbai:1593   \n2                              navi mumbai:4142   \n3  new delhi:4131,chennai:2878,navi mumbai:1339   \n4                     gurgaon:6077,chennai:4055   \n\n                                                 dow  \\\n0  1:3412,3:15878,2:1737,5:10975,4:20974,7:17820,...   \n1      1:5745,3:3025,2:3346,5:123,4:3007,7:1108,6:10   \n2                                             3:4142   \n3                     1:658,3:5867,5:413,4:1339,7:71   \n4                  1:1641,2:480,4:1445,7:1663,6:4900   \n\n                                                 tod  genre_count  \n0  10:26,13:331,12:323,20:21864,21:16233,17:7953,...        87385  \n1  11:1661,10:384,20:401,21:798,22:221,16:525,19:...        16370  \n2                                1:1207,0:2406,2:529         4142  \n3        11:71,20:2417,21:1042,23:2288,19:1872,8:658         8348  \n4  20:158,22:4139,17:67,23:1510,19:288,18:56,0:23...        10131  \n"
     ]
    }
   ],
   "source": [
    ""
   ]
  },
  {
   "cell_type": "code",
   "execution_count": null,
   "metadata": {},
   "outputs": [],
   "source": [
    ""
   ]
  }
 ],
 "metadata": {
  "kernelspec": {
   "display_name": "Python 2",
   "language": "python",
   "name": "python2"
  },
  "language_info": {
   "codemirror_mode": {
    "name": "ipython",
    "version": 2.0
   },
   "file_extension": ".py",
   "mimetype": "text/x-python",
   "name": "python",
   "nbconvert_exporter": "python",
   "pygments_lexer": "ipython2",
   "version": "2.7.6"
  }
 },
 "nbformat": 4,
 "nbformat_minor": 0
}